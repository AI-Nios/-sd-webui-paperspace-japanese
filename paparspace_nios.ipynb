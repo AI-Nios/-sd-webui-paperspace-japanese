{
  "nbformat": 4,
  "nbformat_minor": 0,
  "metadata": {
    "colab": {
      "provenance": [],
      "authorship_tag": "ABX9TyPcR3f7febV8lH3xvKBHaiN",
      "include_colab_link": true
    },
    "kernelspec": {
      "name": "python3",
      "display_name": "Python 3"
    },
    "language_info": {
      "name": "python"
    }
  },
  "cells": [
    {
      "cell_type": "markdown",
      "metadata": {
        "id": "view-in-github",
        "colab_type": "text"
      },
      "source": [
        "<a href=\"https://colab.research.google.com/github/AI-Nios/sd-webui-paperspace-japanese/blob/main/paparspace_nios.ipynb\" target=\"_parent\"><img src=\"https://colab.research.google.com/assets/colab-badge.svg\" alt=\"Open In Colab\"/></a>"
      ]
    },
    {
      "cell_type": "code",
      "execution_count": null,
      "metadata": {
        "id": "2oFXhSdOQdB5"
      },
      "outputs": [],
      "source": [
        "\n",
        "#WebUIのインストール\n",
        "%cd /notebooks\n",
        "\n",
        "!git clone -b v2.1 https://github.com/camenduru/stable-diffusion-webui\n",
        "!git clone https://github.com/alemelis/sd-webui-ar.git /notebooks/stable-diffusion-webui/extensions/sd-webui-ar\n",
        "!git clone https://github.com/yfszzx/stable-diffusion-webui-images-browser /notebooks/stable-diffusion-webui/extensions/stable-diffusion-webui-images-browser\n",
        "!git clone https://github.com/DominikDoom/a1111-sd-webui-tagcomplete.git /notebooks/stable-diffusion-webui/extensions/a1111-sd-webui-tagcomplete\n",
        "!git clone https://github.com/camenduru/stable-diffusion-webui-huggingface /notebooks/stable-diffusion-webui/extensions/stable-diffusion-webui-huggingface\n",
        "!git clone https://github.com/camenduru/sd-webui-tunnels /notebooks/stable-diffusion-webui/extensions/sd-webui-tunnels\n",
        "!git clone https://github.com/deforum-art/deforum-for-automatic1111-webui /notebooks/stable-diffusion-webui/extensions/deforum-for-automatic1111-webui\n",
        "!git clone https://github.com/toshiaki1729/stable-diffusion-webui-dataset-tag-editor.git /notebooks/stable-diffusion-webui/extensions/dataset-tag-editor\n",
        "!git clone https://github.com/bbc-mc/sdweb-merge-block-weighted-gui /notebooks/stable-diffusion-webui/extensions/sdweb-merge-block-weighted-gui\n",
        "!git clone -b v2.0 https://github.com/camenduru/sd-civitai-browser /notebooks/stable-diffusion-webui/extensions/sd-civitai-browser\n",
        "!git clone https://github.com/kohya-ss/sd-webui-additional-networks /notebooks/stable-diffusion-webui/extensions/sd-webui-additional-networks\n",
        "!git clone https://github.com/opparco/stable-diffusion-webui-two-shot.git /notebooks/stable-diffusion-webui/extensions/stable-diffusion-webui-two-shot\n",
        "!git apply --ignore-whitespace /notebooks/stable-diffusion-webui-two-shot/cfg_denoised_callback-ea9bd9fc.patch\n",
        "!git clone https://github.com/hallatore/stable-diffusion-webui-chatgpt-utilities /notebooks/stable-diffusion-webui/extensions/stable-diffusion-webui-chatgpt-utilities\n",
        "!git clone https://github.com/KohakuBlueleaf/a1111-sd-webui-locon.git /notebooks/stable-diffusion-webui/extensions/a1111-sd-webui-locon\n",
        "!git clone https://github.com/butaixianran/Stable-Diffusion-Webui-Civitai-Helper.git /notebooks/stable-diffusion-webui/extensions/Stable-Diffusion-Webui-Civitai-Helper\n",
        "!git clone https://github.com/hnmr293/sd-webui-cutoff /notebooks/stable-diffusion-webui/extensions/sd-webui-cutoff\n",
        "\n",
        "%cd /notebooks/stable-diffusion-webui\n",
        "!git reset --hard\n",
        "\n",
        "#EasyNegative\n",
        "!wget https://huggingface.co/datasets/gsdf/EasyNegative/resolve/main/EasyNegative.pt -O /notebooks/stable-diffusion-webui/embeddings/EasyNegative.pt\n"
      ]
    },
    {
      "cell_type": "code",
      "source": [
        "#ControlNet\n",
        "!git clone https://github.com/camenduru/openpose-editor /notebooks/stable-diffusion-webui/extensions/openpose-editor\n",
        "!git clone https://github.com/Mikubill/sd-webui-controlnet.git /notebooks/stable-diffusion-webui/extensions/sd-webui-controlnet\n",
        "!git clone https://github.com/jexom/sd-webui-depth-lib /notebooks/stable-diffusion-webui/extensions/sd-webui-depth-lib\n",
        "!aria2c --console-log-level=error -c -x 16 -s 16 -k 1M https://huggingface.co/ckpt/ControlNet/resolve/main/control_canny-fp16.safetensors -d /{path}/stable-diffusion-webui/extensions/sd-webui-controlnet/models -o control_canny-fp16.safetensors\n",
        "!aria2c --console-log-level=error -c -x 16 -s 16 -k 1M https://huggingface.co/ckpt/ControlNet/resolve/main/control_depth-fp16.safetensors -d /{path}/stable-diffusion-webui/extensions/sd-webui-controlnet/models -o control_depth-fp16.safetensors\n",
        "!aria2c --console-log-level=error -c -x 16 -s 16 -k 1M https://huggingface.co/ckpt/ControlNet/resolve/main/control_hed-fp16.safetensors -d /{path}/stable-diffusion-webui/extensions/sd-webui-controlnet/models -o control_hed-fp16.safetensors\n",
        "!aria2c --console-log-level=error -c -x 16 -s 16 -k 1M https://huggingface.co/ckpt/ControlNet/resolve/main/control_mlsd-fp16.safetensors -d /{path}/stable-diffusion-webui/extensions/sd-webui-controlnet/models -o control_mlsd-fp16.safetensors\n",
        "!aria2c --console-log-level=error -c -x 16 -s 16 -k 1M https://huggingface.co/ckpt/ControlNet/resolve/main/control_normal-fp16.safetensors -d /{path}/stable-diffusion-webui/extensions/sd-webui-controlnet/models -o control_normal-fp16.safetensors\n",
        "!aria2c --console-log-level=error -c -x 16 -s 16 -k 1M https://huggingface.co/ckpt/ControlNet/resolve/main/control_openpose-fp16.safetensors -d /{path}/stable-diffusion-webui/extensions/sd-webui-controlnet/models -o control_openpose-fp16.safetensors\n",
        "!aria2c --console-log-level=error -c -x 16 -s 16 -k 1M https://huggingface.co/ckpt/ControlNet/resolve/main/control_scribble-fp16.safetensors -d /{path}/stable-diffusion-webui/extensions/sd-webui-controlnet/models -o control_scribble-fp16.safetensors\n",
        "!aria2c --console-log-level=error -c -x 16 -s 16 -k 1M https://huggingface.co/ckpt/ControlNet/resolve/main/control_seg-fp16.safetensors -d /{path}/stable-diffusion-webui/extensions/sd-webui-controlnet/models -o control_seg-fp16.safetensors\n",
        "!aria2c --console-log-level=error -c -x 16 -s 16 -k 1M https://huggingface.co/ckpt/ControlNet/resolve/main/hand_pose_model.pth -d /{path}/stable-diffusion-webui/extensions/sd-webui-controlnet/annotator/openpose -o hand_pose_model.pth\n",
        "!aria2c --console-log-level=error -c -x 16 -s 16 -k 1M https://huggingface.co/ckpt/ControlNet/resolve/main/body_pose_model.pth -d /{path}/stable-diffusion-webui/extensions/sd-webui-controlnet/annotator/openpose -o body_pose_model.pth\n",
        "!aria2c --console-log-level=error -c -x 16 -s 16 -k 1M https://huggingface.co/ckpt/ControlNet/resolve/main/dpt_hybrid-midas-501f0c75.pt -d /{path}/stable-diffusion-webui/extensions/sd-webui-controlnet/annotator/midas -o dpt_hybrid-midas-501f0c75.pt\n",
        "!aria2c --console-log-level=error -c -x 16 -s 16 -k 1M https://huggingface.co/ckpt/ControlNet/resolve/main/mlsd_large_512_fp32.pth -d /{path}/stable-diffusion-webui/extensions/sd-webui-controlnet/annotator/mlsd -o mlsd_large_512_fp32.pth\n",
        "!aria2c --console-log-level=error -c -x 16 -s 16 -k 1M https://huggingface.co/ckpt/ControlNet/resolve/main/mlsd_tiny_512_fp32.pth -d /{path}/stable-diffusion-webui/extensions/sd-webui-controlnet/annotator/mlsd -o mlsd_tiny_512_fp32.pth\n",
        "!aria2c --console-log-level=error -c -x 16 -s 16 -k 1M https://huggingface.co/ckpt/ControlNet/resolve/main/network-bsds500.pth -d /{path}/stable-diffusion-webui/extensions/sd-webui-controlnet/annotator/hed -o network-bsds500.pth\n",
        "!aria2c --console-log-level=error -c -x 16 -s 16 -k 1M https://huggingface.co/ckpt/ControlNet/resolve/main/upernet_global_small.pth -d /{path}/stable-diffusion-webui/extensions/sd-webui-controlnet/annotator/uniformer -o upernet_global_small.pth\n",
        "!aria2c --console-log-level=error -c -x 16 -s 16 -k 1M https://huggingface.co/ckpt/ControlNet/resolve/main/t2iadapter_style_sd14v1.pth -d /{path}/stable-diffusion-webui/extensions/sd-webui-controlnet/models -o t2iadapter_style_sd14v1.pth\n",
        "!aria2c --console-log-level=error -c -x 16 -s 16 -k 1M https://huggingface.co/ckpt/ControlNet/resolve/main/t2iadapter_sketch_sd14v1.pth -d /{path}/stable-diffusion-webui/extensions/sd-webui-controlnet/models -o t2iadapter_sketch_sd14v1.pth\n",
        "!aria2c --console-log-level=error -c -x 16 -s 16 -k 1M https://huggingface.co/ckpt/ControlNet/resolve/main/t2iadapter_seg_sd14v1.pth -d /{path}/stable-diffusion-webui/extensions/sd-webui-controlnet/models -o t2iadapter_seg_sd14v1.pth\n",
        "!aria2c --console-log-level=error -c -x 16 -s 16 -k 1M https://huggingface.co/ckpt/ControlNet/resolve/main/t2iadapter_openpose_sd14v1.pth -d /{path}/stable-diffusion-webui/extensions/sd-webui-controlnet/models -o t2iadapter_openpose_sd14v1.pth\n",
        "!aria2c --console-log-level=error -c -x 16 -s 16 -k 1M https://huggingface.co/ckpt/ControlNet/resolve/main/t2iadapter_keypose_sd14v1.pth -d /{path}/stable-diffusion-webui/extensions/sd-webui-controlnet/models -o t2iadapter_keypose_sd14v1.pth\n",
        "!aria2c --console-log-level=error -c -x 16 -s 16 -k 1M https://huggingface.co/ckpt/ControlNet/resolve/main/t2iadapter_depth_sd14v1.pth -d /{path}/stable-diffusion-webui/extensions/sd-webui-controlnet/models -o t2iadapter_depth_sd14v1.pth\n",
        "!aria2c --console-log-level=error -c -x 16 -s 16 -k 1M https://huggingface.co/ckpt/ControlNet/resolve/main/t2iadapter_color_sd14v1.pth -d /{path}/stable-diffusion-webui/extensions/sd-webui-controlnet/models -o t2iadapter_color_sd14v1.pth\n",
        "!aria2c --console-log-level=error -c -x 16 -s 16 -k 1M https://huggingface.co/ckpt/ControlNet/resolve/main/t2iadapter_canny_sd14v1.pth -d /{path}/stable-diffusion-webui/extensions/sd-webui-controlnet/models -o t2iadapter_canny_sd14v1.pth\n"
      ],
      "metadata": {
        "id": "Krz18T98RdMx"
      },
      "execution_count": null,
      "outputs": []
    },
    {
      "cell_type": "code",
      "source": [
        "#永久ストレージの場合(Pro版)\n",
        "#path = \"/notebooks\"\n",
        "#model_path = \"{path}/stable-diffusion-webui/models/Stable-diffusion\"\n",
        "\n",
        "#一時的ストレージの場合(無料)\n",
        "path = \"/tmp\"\n",
        "#!mkdir -p /{path}/{models,VAE}\n",
        "model_path = \"{path}/models\""
      ],
      "metadata": {
        "id": "wgoLV4Y3vGEc"
      },
      "execution_count": null,
      "outputs": []
    },
    {
      "cell_type": "code",
      "source": [
        "\n",
        "# 2.モデル選択とVAE\n",
        "%cd {path}\n",
        "import os\n",
        "!sudo apt-get update\n",
        "!apt -y install -qq aria2\n",
        "\n",
        "#model_dictから選んで実行\n",
        "model_name =\"AbyssOrangeMix2\" \n",
        "#model_dictから選んで実行\n",
        "vae_name = \"vae-ft-mse-840000-ema-pruned\"\n",
        "\n",
        "model_dict={\n",
        "    \"stable_diffusion_v1.5\":\"https://huggingface.co/camenduru/sd15/resolve/main/v1-5-pruned-emaonly.ckpt\",\n",
        "    \"stable_diffusion_v2.1\":\"https://huggingface.co/stabilityai/stable-diffusion-2-1/resolve/main/v2-1_768-ema-pruned.ckpt\",\n",
        "    \"waifu_diffusion_v1.3\":\"https://huggingface.co/hakurei/waifu-diffusion-v1-3/resolve/main/wd-v1-3-float32.ckpt\",\n",
        "    \"Openjourney\":\"https://huggingface.co/prompthero/openjourney/resolve/main/mdjrny-v4.safetensors\",\n",
        "    \"anything-v3.0\":\"https://huggingface.co/Linaqruf/anything-v3.0/resolve/main/anything-v3-fp32-pruned.safetensors\",\n",
        "    \"anything-v4.0\":\"https://huggingface.co/andite/anything-v4.0/resolve/main/anything-v4.0-pruned.ckpt\",\n",
        "    \"anything-v4.5\":\"https://huggingface.co/andite/anything-v4.0/resolve/main/anything-v4.5-pruned.safetensors\",\n",
        "    \"Counterfeit-V2.0\":\"https://huggingface.co/gsdf/Counterfeit-V2.0/resolve/main/Counterfeit-V2.0fp16.safetensors\",\n",
        "    \"Counterfeit-V2.5\":\"https://huggingface.co/gsdf/Counterfeit-V2.5/resolve/main/Counterfeit-V2.5_pruned.safetensors\",\n",
        "    \"8528-diffusion\":\"https://huggingface.co/852wa/8528-diffusion/resolve/main/8528d-final.ckpt\",\n",
        "    \"AbyssOrangeMix2\":\"https://huggingface.co/WarriorMama777/OrangeMixs/resolve/main/Models/AbyssOrangeMix2/AbyssOrangeMix2_nsfw.safetensors\",\n",
        "    \"EerieOrangeMix2\":\"https://huggingface.co/WarriorMama777/OrangeMixs/resolve/main/Models/EerieOrangeMix/EerieOrangeMix2.safetensors\",\n",
        "    \"trinart2_step115000\":\"https://huggingface.co/naclbit/trinart_stable_diffusion_v2/resolve/main/trinart2_step115000.ckpt\",\n",
        "    \"EimisAnimeDiffusion_1.0v\":\"https://huggingface.co/eimiss/EimisAnimeDiffusion_1.0v/resolve/main/EimisAnimeDiffusion_1-0v.ckpt\",\n",
        "    \"dreamlike-photoreal-2.0\":\"https://huggingface.co/dreamlike-art/dreamlike-photoreal-2.0/resolve/main/dreamlike-photoreal-2.0.safetensors\",\n",
        "    \"Cyberpunk-Anime-Diffusion\":\"https://huggingface.co/DGSpitzer/Cyberpunk-Anime-Diffusion/resolve/main/Cyberpunk-Anime-Diffusion.ckpt\",\n",
        "    \"Plat_Diffusion_v1.3.1\":\"https://huggingface.co/p1atdev/pd-archive/resolve/main/plat-v1-3-1.safetensors\",\n",
        "    \"ACertainThing\":\"https://huggingface.co/JosephusCheung/ACertainThing/resolve/main/ACertainThing.ckpt\",\n",
        "    \"pastel_mix\":\"https://huggingface.co/andite/pastel-mix/resolve/main/pastelmix-better-vae-fp16.safetensors\",\n",
        "    \"Basil_mix_fixed\":\"https://huggingface.co/nuigurumi/basil_mix/resolve/main/Basil_mix_fixed.safetensors\",\n",
        "    \"Realistic_Vision_V1.3\":\"https://civitai.com/api/download/models/6987\",\n",
        "    \"SukiyakiMix-v1.0\":\"https://huggingface.co/Vsukiyaki/SukiyakiMix-v1.0/resolve/main/SukiyakiMix-v1.0-fp16.safetensors\",\n",
        "    \"7th_anime_v1.1\":\"https://huggingface.co/syaimu/7th_Layer/resolve/main/7th_anime_v1/7th_anime_v1.1.safetensors\",\n",
        "    \"7th_anime_v2_A\":\"https://huggingface.co/syaimu/7th_Layer/resolve/main/7th_anime_v2/7th_anime_v2_A.safetensors\",\n",
        "    \"7th_anime_v2_B\":\"https://huggingface.co/syaimu/7th_Layer/resolve/main/7th_anime_v2/7th_anime_v2_B.safetensors\",\n",
        "    \"7th_anime_v2_C\":\"https://huggingface.co/syaimu/7th_Layer/resolve/main/7th_anime_v2/7th_anime_v2_C.safetensors\",\n",
        "    \"7th_anime_v2_G\":\"https://huggingface.co/syaimu/7th_Layer/resolve/main/7th_anime_v2/7th_anime_v2_G.safetensors\",\n",
        "    \"7th_anime_v3_A\":\"https://huggingface.co/syaimu/7th_Layer/resolve/main/7th_anime_v3/7th_anime_v3_A.safetensors\",\n",
        "    \"7th_anime_v3_B\":\"https://huggingface.co/syaimu/7th_Layer/resolve/main/7th_anime_v3/7th_anime_v3_B.safetensors\",\n",
        "    \"7th_anime_v3_C\":\"https://huggingface.co/syaimu/7th_Layer/resolve/main/7th_anime_v3/7th_anime_v3_C.safetensors\",\n",
        "    \"7th_anime_3.1_B\":\"https://huggingface.co/syaimu/7th_test/resolve/main/7th_anime_3.1_B.ckpt\",\n",
        "    \"YuzuGinger_v4\":\"https://huggingface.co/thiros/YuzuLemonTea/resolve/main/YuzuGinger_v4-pruned.safetensors\",\n",
        "    \"YuzuLemonMilk_v1.5\":\"https://huggingface.co/thiros/YuzuLemonTea/resolve/main/YuzuLemonMilk_v1.5-pruned.safetensors\",\n",
        "    \"Defmix-v1.1\":\"https://huggingface.co/Defpoint/Defmix-v1.0/resolve/main/Defmix-v1.1.safetensors\",\n",
        "    \"RDtMix\":\"https://huggingface.co/Hemlok/DateMix/resolve/main/RDtMix-fp16.safetensors\",\n",
        "    \"meadmix\":\"https://huggingface.co/sazanka-imoto/MeadMix/resolve/main/meadmix.safetensors\",\n",
        "    \"Nabylon-v1.0\":\"https://huggingface.co/NegiInNattoMaki/Nabylon-v1.0/resolve/main/Nabylon-v1.0-fp16.safetensors\",\n",
        "    \"LonganMix\":\"https://huggingface.co/Hemlok/LonganMix/resolve/main/LonganMix-fp16.ckpt\",\n",
        "    \"Corneo's 7th_Heaven_Mix\":\"https://civitai.com/api/download/models/5338\",\n",
        "    \"Corneo's_Shinra26_Mix\":\"https://civitai.com/api/download/models/6918\",\n",
        "    \"atwmix_test2\":\"https://huggingface.co/atsuwo/atwmix_test2/resolve/main/atwmix_test2.ckpt\",\n",
        "    \"Graham_Special\":\"https://huggingface.co/Graham-san/Graham_Special/resolve/main/Graham%20Special%20v1.ckpt\",\n",
        "    \"BalorV2featAbyssOrange2\":\"https://huggingface.co/ploughB660/Balor-V2/resolve/main/BalorV2featAbyssOrange2.safetensors\",\n",
        "    \"Balor-V2.5featAOM3A3\":\"https://huggingface.co/ploughB660/Balor-V3/resolve/main/Balor-V2.5featAOM3A3.safetensors\",\n",
        "    \"ChilloutMix\":\"https://civitai.com/api/download/models/11745\",\n",
        "    \"wd-1-5-beta2\":\"https://huggingface.co/waifu-diffusion/wd-1-5-beta2/resolve/main/checkpoints/wd-1-5-beta2-aesthetic-fp16.safetensors\",\n",
        "}\n",
        "\n",
        "url_dict = {\n",
        "    \"vae-ft-mse-840000-ema-pruned\": \"https://huggingface.co/stabilityai/sd-vae-ft-mse-original/resolve/main/vae-ft-mse-840000-ema-pruned.safetensors\",\n",
        "    \"vae-ft-mse-560000-ema-pruned\": \"https://huggingface.co/stabilityai/sd-vae-ft-ema-original/resolve/main/vae-ft-ema-560000-ema-pruned.ckpt\",\n",
        "    \"kl-f8-anime\": \"https://huggingface.co/hakurei/waifu-diffusion-v1-4/resolve/main/vae/kl-f8-anime.ckpt\",\n",
        "    \"kl-f8-anime2\": \"https://huggingface.co/hakurei/waifu-diffusion-v1-4/resolve/main/vae/kl-f8-anime2.ckpt\",\n",
        "    \"Anything-V3.0.vae.pt\": \"https://huggingface.co/ckpt/anything-v3.0/resolve/main/Anything-V3.0.vae.pt\",\n",
        "    \"autoencoder_fix_kl-f8-trinart_characters\": \"https://huggingface.co/naclbit/trinart_characters_19.2m_stable_diffusion_v1/resolve/main/autoencoder_fix_kl-f8-trinart_characters.ckpt\",\n",
        "    \"orangemix.vae.pt\": \"https://huggingface.co/WarriorMama777/OrangeMixs/resolve/main/VAEs/orangemix.vae.pt\",\n",
        "}\n",
        "\n",
        "model_url = model_dict.get(model_name)\n",
        "vae_url = url_dict.get(vae_name)\n",
        "\n",
        "def install(model_url, vae_url):\n",
        "    if model_url :\n",
        "        base_name = os.path.basename(model_url)\n",
        "        if model_url.startswith(\"https://huggingface.co/\"):\n",
        "            if \"/blob/\" in model_url:\n",
        "                model_url = model_url.replace(\"/blob/\", \"/resolve/\")\n",
        "            huggingface_token =\"YOUR_HUGGINGFACE_TOKEN\" # 自分のトークンに変更\n",
        "            user_header = f'\"Authorization: Bearer {huggingface_token}\"'\n",
        "            !aria2c --console-log-level=error --summary-interval=10 --header={user_header} -c -x 16 -s 16 -k 1M {model_url} -d {model_path} -o {base_name} \n",
        "        else:\n",
        "            !aria2c --console-log-level=error --summary-interval=10 -c -x 16 -k 1M -s 16 -d {model_path} {model_url}\n",
        "            \n",
        "    if vae_url :\n",
        "        base_name = os.path.basename(vae_url)\n",
        "        if \".ckpt\" in base_name or \".safetensors\" in base_name:\n",
        "            base_name = base_name.replace(\".ckpt\", \".vae.pt\").replace(\".safetensors\", \".vae.pt\") \n",
        "        !aria2c --console-log-level=error --summary-interval=10 -c -x 16 -k 1M -s 16 {vae_url} -d {model_path} -o {base_name}           \n",
        "\n",
        "install(model_url, vae_url)\n"
      ],
      "metadata": {
        "id": "TStzkrWpRxow"
      },
      "execution_count": null,
      "outputs": []
    },
    {
      "cell_type": "code",
      "source": [
        "%cd /notebooks\n",
        "\n",
        "import os\n",
        "\n",
        "!apt -y update -qq\n",
        "\n",
        "!pip install torch==1.13.1+cu116 torchvision==0.14.1+cu116 torchaudio==0.13.1 --extra-index-url https://download.pytorch.org/whl/cu116 -U\n",
        "!apt -y install -qq aria2\n",
        "!pip install -q xformers==0.0.16\n",
        "!pip install -q triton==2.0.0"
      ],
      "metadata": {
        "id": "sMPlJIrPcSvV"
      },
      "execution_count": null,
      "outputs": []
    },
    {
      "cell_type": "code",
      "source": [
        "if path == \"/tmp\":\n",
        "    !ln -s {model_path} /notebooks/stable-diffusion-webui/models/Stable-diffusion\n",
        "    !ln -s /tmp/lora /notebooks/stable-diffusion-webui/extensions/sd-webui-additional-networks/models"
      ],
      "metadata": {
        "id": "W4iVl3O9x3uz"
      },
      "execution_count": null,
      "outputs": []
    },
    {
      "cell_type": "code",
      "source": [
        "%cd /notebooks/stable-diffusion-webui\n",
        "!sed -i -e 's/\\\"sd_model_checkpoint\\\"\\,/\\\"sd_model_checkpoint\\,sd_vae\\,CLIP_stop_at_last_layers\\\"\\,/g' /content/stable-diffusion-webui/modules/shared.py\n",
        "!python launch.py --listen --xformers --enable-insecure-extension-access --theme dark --gradio-queue --multiple"
      ],
      "metadata": {
        "id": "AiFfWW8koebC"
      },
      "execution_count": null,
      "outputs": []
    },
    {
      "cell_type": "code",
      "source": [
        "#削除\n",
        "!rm -rf /notebooks/stable-diffusion-webui"
      ],
      "metadata": {
        "id": "e1cIL1xTsAam"
      },
      "execution_count": null,
      "outputs": []
    },
    {
      "cell_type": "code",
      "source": [
        "!mkdir -p /tmp/lora"
      ],
      "metadata": {
        "id": "NVVuTc27R79D"
      },
      "execution_count": null,
      "outputs": []
    },
    {
      "cell_type": "code",
      "source": [
        "!sudo apt-get update\n",
        "!sudo apt-get install -y libtorch-cuda-cu110-dev\n",
        "!pip uninstall torch\n",
        "!pip install torch-cpu"
      ],
      "metadata": {
        "id": "exEBiqOzyCBw"
      },
      "execution_count": null,
      "outputs": []
    }
  ]
}